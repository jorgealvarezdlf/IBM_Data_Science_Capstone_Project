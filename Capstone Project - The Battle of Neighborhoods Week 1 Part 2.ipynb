{
 "cells": [
  {
   "cell_type": "markdown",
   "metadata": {},
   "source": [
    "# CAPSTONE PROJECT - THE BATTLE OF NEIGHBORHOODS\n",
    "# (WEEK 1 PART 2)"
   ]
  },
  {
   "cell_type": "markdown",
   "metadata": {},
   "source": [
    "## 3. Data"
   ]
  },
  {
   "cell_type": "markdown",
   "metadata": {},
   "source": [
    "This section describes the data that will be used to solve the problem concerning the tourism and visits to London city."
   ]
  },
  {
   "cell_type": "markdown",
   "metadata": {},
   "source": [
    "**3.1. Libraries**: The libraries installed and imported to be used in this project are summarized below."
   ]
  },
  {
   "cell_type": "markdown",
   "metadata": {},
   "source": [
    "* Numpy: Library to handle data in a vectorized manner. It is used to create cluster labels during the clustering stage.\n",
    "\n",
    "* Pandas: Library for data analysis. In this project is used to build DataFrames containing Postal Codes, districts, venues, latitudes, longitudes.\n",
    "\n",
    "* Requests: Library to handle requests. It is used to scrape the list of Postal Codes in London city from Milesfaster website (please, refer to sources section below).\n",
    "\n",
    "* BeautifulSoup: Library used for pulling data out of html and XML files. It is necessary to scrape information from web pages.\n",
    "\n",
    "* Geopy: Library used to convert an address into latitude and latitude values. It is used to add the latitudes and longitudes to the districts scraped.\n",
    "\n",
    "* Json: Library to handle JSON files. In this project is used to make the GET request during the neighborhood exploration stage.\n",
    "\n",
    "* folium: Library used to create maps. It is used to create maps in London city, containing all districts previously scraped.\n",
    "\n",
    "* Matplotlib.cm and Matplotlib.colors: Library used to plot a range of colors in London city maps.\n",
    "\n",
    "* k-means: Library used to apply k-means clustering algorithm used to cluster districts in London city."
   ]
  },
  {
   "cell_type": "markdown",
   "metadata": {},
   "source": [
    "**3.2. Data Acquisition**: The data acquired for this project contains the following columns."
   ]
  },
  {
   "cell_type": "markdown",
   "metadata": {},
   "source": [
    "* Postal Code: Contains the postal codes of London city that have the following coding. C: Central, N: North, E: East, W: West, SE: South East, SW: South West, NE: North East, NW: North West.\n",
    "\n",
    "* District: London city districts within a Postal Code.\n",
    "\n",
    "* Postal Code Latitude: Latitude of a given Postal Code in London city.\n",
    "\n",
    "* Postal Code Longitude: Longitude of a given Postal Code in London city.\n",
    "\n",
    "* Venue: Venue names within a district in London city.\n",
    "\n",
    "* Venue Latitude: Latitude of a given venue in London city.\n",
    "\n",
    "* Venue Longitude: Longitude of a given venue in London city.\n",
    "\n",
    "* Venue Category: Category of a given venue (such as bakery, coffee shop, movie theater, etc.)\n",
    "\n",
    "* Most common venue: The most common venue within a district ranging from 1st to 10th."
   ]
  },
  {
   "cell_type": "markdown",
   "metadata": {},
   "source": [
    "**3.3. Data sources**: For this project the following data and sources will be used:"
   ]
  },
  {
   "cell_type": "markdown",
   "metadata": {},
   "source": [
    "* **Milesfaster website** This is a London Hotels specialist website which contains the postal codes and districts of London city. The postal codes and district data of London city will be scraped from Milesfaster using the beautiful soup library of Python, however, it requires an additional data cleaning step to reorganize and label columns. Milesfaster url is the following: https://www.milesfaster.co.uk/london-postcodes-list.htm\n",
    "\n",
    "\n",
    "* **ArcGIS** Geocoding is the computational process of transforming a physical address description to a location on the Earth's surface (spatial representation in numerical coordinates). ArcGIS will be used to turn addresses into coordinates, finding addresses interactively and geocoding a table of addresses.\n",
    "\n",
    "\n",
    "* **Foursquare API** to get the most common venues of given district in London city. Foursquare API has one of the largest database of 105+ million places and is used by over 1250,000 developers. It provides different data information of venues among districts. Foursquare data contains venues, longitude, latitude and postal codes. The information obtained per venue as follows: district, district latitude, district longitude, venue name, venue latitude, venue longitude, venue category. This will be used in the methodology section."
   ]
  },
  {
   "cell_type": "markdown",
   "metadata": {},
   "source": [
    "The pdf file of this notebook can be found in the following link:\n",
    "\n",
    "[Capstone Project - The Battle of Neighborhoods Week 1 Part 2 Data](https://github.com/jorgealvarezdlf/IBM_Data_Science_The_Battle_of_Neighborhoods_week1/blob/master/Capstone%20Project%20-%20The%20Battle%20of%20Neighborhoods%20Week%201%20Part%202.pdf)"
   ]
  }
 ],
 "metadata": {
  "kernelspec": {
   "display_name": "Python 3",
   "language": "python",
   "name": "python3"
  },
  "language_info": {
   "codemirror_mode": {
    "name": "ipython",
    "version": 3
   },
   "file_extension": ".py",
   "mimetype": "text/x-python",
   "name": "python",
   "nbconvert_exporter": "python",
   "pygments_lexer": "ipython3",
   "version": "3.7.6"
  }
 },
 "nbformat": 4,
 "nbformat_minor": 4
}
